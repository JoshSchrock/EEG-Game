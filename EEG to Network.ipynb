{
 "cells": [
  {
   "cell_type": "markdown",
   "source": [
    "Imports"
   ],
   "metadata": {
    "collapsed": false,
    "pycharm": {
     "name": "#%% md\n"
    }
   }
  },
  {
   "cell_type": "code",
   "execution_count": 17,
   "outputs": [],
   "source": [
    "import os\n",
    "import numpy as np\n",
    "import mne\n",
    "import matplotlib\n",
    "import matplotlib.pyplot as plt"
   ],
   "metadata": {
    "collapsed": false,
    "pycharm": {
     "name": "#%%\n"
    }
   }
  },
  {
   "cell_type": "markdown",
   "source": [
    "Ensure Matplotlib uses the Qt5Agg backend for plotting functions"
   ],
   "metadata": {
    "collapsed": false,
    "pycharm": {
     "name": "#%% md\n"
    }
   }
  },
  {
   "cell_type": "code",
   "execution_count": 18,
   "outputs": [],
   "source": [
    "matplotlib.use('Qt5Agg')\n",
    "annot_kwargs = dict(fontsize=12, fontweight='bold',\n",
    "                    xycoords=\"axes fraction\", ha='right', va='center')\n",
    "fontsize = 8\n",
    "params = {'font.size': fontsize,\n",
    "          'axes.labelsize': fontsize,\n",
    "          'legend.fontsize': fontsize,\n",
    "          'xtick.labelsize': fontsize,\n",
    "          'ytick.labelsize': fontsize,\n",
    "          'axes.titlesize': fontsize + 2,\n",
    "          'figure.max_open_warning': 200,\n",
    "          'axes.spines.top': False,\n",
    "          'axes.spines.right': False,\n",
    "          'axes.grid': True,\n",
    "          'lines.linewidth': 1\n",
    "          }\n",
    "plt.rcParams.update(params)"
   ],
   "metadata": {
    "collapsed": false,
    "pycharm": {
     "name": "#%%\n"
    }
   }
  },
  {
   "cell_type": "markdown",
   "source": [
    "Configure to use Cuda"
   ],
   "metadata": {
    "collapsed": false,
    "pycharm": {
     "name": "#%% md\n"
    }
   }
  },
  {
   "cell_type": "code",
   "execution_count": 19,
   "outputs": [],
   "source": [
    "try:\n",
    "    mne.set_config('MNE_USE_CUDA', 'true')\n",
    "except TypeError as err:\n",
    "    print(err)"
   ],
   "metadata": {
    "collapsed": false,
    "pycharm": {
     "name": "#%%\n"
    }
   }
  },
  {
   "cell_type": "markdown",
   "source": [
    "Choose channels from the raw edf file to use"
   ],
   "metadata": {
    "collapsed": false,
    "pycharm": {
     "name": "#%% md\n"
    }
   }
  },
  {
   "cell_type": "code",
   "execution_count": 20,
   "outputs": [],
   "source": [
    "# good channels: [4,5,6,7,8,9,10,11,12,13,14,15,16,17]\n",
    "# all channels ['TIME_STAMP_s', 'TIME_STAMP_ms', 'COUNTER', 'INTERPOLATED', 'AF3', 'F7', 'F3', 'FC5', 'T7', 'P7', 'O1', 'O2', 'P8', 'T8', 'FC6', 'F4', 'F8', 'AF4', 'HighBitFlex', 'SaturationFlag', 'RAW_CQ', 'BATTERY', 'BATTERY_PERCENT', 'MarkerIndex', 'MarkerType', 'MarkerValueInt', 'MARKER_HARDWARE', 'CQ_AF3', 'CQ_F7', 'CQ_F3', 'CQ_FC5', 'CQ_T7', 'CQ_P7', 'CQ_O1', 'CQ_O2', 'CQ_P8', 'CQ_T8', 'CQ_FC6', 'CQ_F4', 'CQ_F8', 'CQ_AF4', 'CQ_OVERALL', 'EQ_SampleRateQua', 'EQ_OVERALL', 'EQ_AF3', 'EQ_F7', 'EQ_F3', 'EQ_FC5', 'EQ_T7', 'EQ_P7', 'EQ_O1', 'EQ_O2', 'EQ_P8', 'EQ_T8', 'EQ_FC6', 'EQ_F4', 'EQ_F8', 'EQ_AF4', 'CQ_CMS', 'CQ_DRL']\n",
    "stim_channels = ['MarkerValueInt']\n",
    "exclude = ['MarkerType', 'MARKER_HARDWARE', 'MarkerIndex', 'TIME_STAMP_s', 'TIME_STAMP_ms', 'COUNTER', 'INTERPOLATED', 'HighBitFlex', 'SaturationFlag', 'RAW_CQ', 'BATTERY', 'BATTERY_PERCENT', 'CQ_AF3', 'CQ_F7', 'CQ_F3', 'CQ_FC5', 'CQ_T7', 'CQ_P7', 'CQ_O1', 'CQ_O2', 'CQ_P8', 'CQ_T8', 'CQ_FC6', 'CQ_F4', 'CQ_F8', 'CQ_AF4', 'CQ_OVERALL', 'EQ_SampleRateQua', 'EQ_OVERALL', 'EQ_AF3', 'EQ_F7', 'EQ_F3', 'EQ_FC5', 'EQ_T7', 'EQ_P7', 'EQ_O1', 'EQ_O2', 'EQ_P8', 'EQ_T8', 'EQ_FC6', 'EQ_F4', 'EQ_F8', 'EQ_AF4', 'CQ_CMS', 'CQ_DRL']\n",
    "#  eog_channels = ['AF3', 'AF4']"
   ],
   "metadata": {
    "collapsed": false,
    "pycharm": {
     "name": "#%%\n"
    }
   }
  },
  {
   "cell_type": "markdown",
   "source": [
    "Import EDF"
   ],
   "metadata": {
    "collapsed": false,
    "pycharm": {
     "name": "#%% md\n"
    }
   }
  },
  {
   "cell_type": "code",
   "execution_count": 21,
   "outputs": [
    {
     "name": "stdout",
     "output_type": "stream",
     "text": [
      "Extracting EDF parameters from C:\\Users\\larx\\PycharmProjects\\EEG-Game\\BCI Evasion 2\\EEGExports\\EEG-Game_Josh Schrock_EPOCFLEX-F0000172_EPOCFLEX_123045_2022.06.21T14.54.07.04.00.edf...\n",
      "EDF file detected\n",
      "Setting channel info structure...\n",
      "Creating raw.info structure...\n",
      "Reading 0 ... 4607  =      0.000 ...    35.992 secs...\n"
     ]
    }
   ],
   "source": [
    "#  edf file name here\n",
    "edf_file_name = 'EEG-Game_Josh Schrock_EPOCFLEX-F0000172_EPOCFLEX_123045_2022.06.21T14.54.07.04.00'\n",
    "data_raw_file = f\"{os.getcwd()}\\\\BCI Evasion 2\\\\EEGExports\\\\{edf_file_name}.edf\"\n",
    "raw = mne.io.read_raw_edf(data_raw_file, stim_channel=stim_channels, exclude=exclude, preload=True)"
   ],
   "metadata": {
    "collapsed": false,
    "pycharm": {
     "name": "#%%\n"
    }
   }
  },
  {
   "cell_type": "markdown",
   "source": [
    "Set up the montage for this data"
   ],
   "metadata": {
    "collapsed": false,
    "pycharm": {
     "name": "#%% md\n"
    }
   }
  },
  {
   "cell_type": "code",
   "execution_count": 22,
   "outputs": [],
   "source": [
    "# Form the 10-20 montage\n",
    "mont1020 = mne.channels.make_standard_montage('standard_1020')\n",
    "# Choose what channels you want to keep\n",
    "# Make sure that these channels exist e.g. T1 does not exist in the standard 10-20 EEG system!\n",
    "kept_channels = ['AF3', 'F7', 'F3', 'FC5', 'T7', 'P7', 'O1', 'O2', 'P8', 'T8', 'FC6', 'F4', 'F8', 'AF4']\n",
    "ind = [i for (i, channel) in enumerate(mont1020.ch_names) if channel in kept_channels]\n",
    "mont1020_new = mont1020.copy()\n",
    "# Keep only the desired channels\n",
    "mont1020_new.ch_names = [mont1020.ch_names[x] for x in ind]\n",
    "kept_channel_info = [mont1020.dig[x+3] for x in ind]\n",
    "# Keep the first three rows as they are the fiducial points information\n",
    "mont1020_new.dig = mont1020.dig[0:3]+kept_channel_info"
   ],
   "metadata": {
    "collapsed": false,
    "pycharm": {
     "name": "#%%\n"
    }
   }
  },
  {
   "cell_type": "markdown",
   "source": [
    "Apply montage to the raw data and plot"
   ],
   "metadata": {
    "collapsed": false,
    "pycharm": {
     "name": "#%% md\n"
    }
   }
  },
  {
   "cell_type": "code",
   "execution_count": 23,
   "outputs": [
    {
     "name": "stdout",
     "output_type": "stream",
     "text": [
      "Opening raw-browser...\n"
     ]
    },
    {
     "data": {
      "text/plain": "<MNEBrowseFigure size 992x952 with 4 Axes>"
     },
     "execution_count": 23,
     "metadata": {},
     "output_type": "execute_result"
    }
   ],
   "source": [
    "raw = raw.set_montage(mont1020_new)\n",
    "raw.plot_sensors(kind='3d', ch_type='eeg')\n",
    "raw.plot(scalings=0.0001)"
   ],
   "metadata": {
    "collapsed": false,
    "pycharm": {
     "name": "#%%\n"
    }
   }
  },
  {
   "cell_type": "markdown",
   "source": [],
   "metadata": {
    "collapsed": false,
    "pycharm": {
     "name": "#%% md\n"
    }
   }
  },
  {
   "cell_type": "markdown",
   "source": [
    "Preprocess Data"
   ],
   "metadata": {
    "collapsed": false,
    "pycharm": {
     "name": "#%% md\n"
    }
   }
  },
  {
   "cell_type": "code",
   "execution_count": 24,
   "outputs": [
    {
     "name": "stdout",
     "output_type": "stream",
     "text": [
      "Filtering raw data in 1 contiguous segment\n",
      "Setting up band-pass filter from 0.5 - 40 Hz\n",
      "\n",
      "FIR filter parameters\n",
      "---------------------\n",
      "Designing a one-pass, zero-phase, non-causal bandpass filter:\n",
      "- Windowed time-domain design (firwin) method\n",
      "- Hamming window with 0.0194 passband ripple and 53 dB stopband attenuation\n",
      "- Lower passband edge: 0.50\n",
      "- Lower transition bandwidth: 0.50 Hz (-6 dB cutoff frequency: 0.25 Hz)\n",
      "- Upper passband edge: 40.00 Hz\n",
      "- Upper transition bandwidth: 10.00 Hz (-6 dB cutoff frequency: 45.00 Hz)\n",
      "- Filter length: 845 samples (6.602 sec)\n",
      "\n"
     ]
    }
   ],
   "source": [
    "filtered_raw = raw.copy().filter(\n",
    "    0.5, 40, l_trans_bandwidth='auto', h_trans_bandwidth='auto',\n",
    "    filter_length='auto', phase='zero', fir_window='hamming',\n",
    "    fir_design='firwin')\n",
    "fig, ax = plt.subplots(2)\n",
    "raw.plot_psd(ax=ax[0], show=False)\n",
    "filtered_raw.plot_psd(ax=ax[1], show=False)\n",
    "ax[0].set_title('Raw')\n",
    "ax[1].set_title('Filtered Raw')\n",
    "ax[1].set_xlabel('Frequency(Hz)')\n",
    "fig.set_tight_layout(True)\n",
    "plt.show()"
   ],
   "metadata": {
    "collapsed": false,
    "pycharm": {
     "name": "#%%\n"
    }
   }
  },
  {
   "cell_type": "markdown",
   "source": [
    "Perform ICA preprocessing"
   ],
   "metadata": {
    "collapsed": false,
    "pycharm": {
     "name": "#%% md\n"
    }
   }
  },
  {
   "cell_type": "code",
   "execution_count": 25,
   "outputs": [
    {
     "name": "stdout",
     "output_type": "stream",
     "text": [
      "Fitting ICA to data using 14 channels (please be patient, this may take a while)\n",
      "Selecting by number: 14 components\n",
      "Fitting ICA took 0.2s.\n",
      "Closing raw-browser...\n",
      "Channels marked as bad:\n",
      "none\n"
     ]
    },
    {
     "data": {
      "text/plain": "[<MNEFigure size 975x731 with 14 Axes>]"
     },
     "execution_count": 25,
     "metadata": {},
     "output_type": "execute_result"
    }
   ],
   "source": [
    "ica = mne.preprocessing.ICA(method='picard', n_components=14, random_state=0, max_iter=100000)\n",
    "ica.fit(filtered_raw)\n",
    "ica.plot_components(outlines='skirt')"
   ],
   "metadata": {
    "collapsed": false,
    "pycharm": {
     "name": "#%%\n"
    }
   }
  },
  {
   "cell_type": "markdown",
   "source": [
    "Extract bad channels"
   ],
   "metadata": {
    "collapsed": false,
    "pycharm": {
     "name": "#%% md\n"
    }
   }
  },
  {
   "cell_type": "code",
   "execution_count": 26,
   "outputs": [
    {
     "name": "stdout",
     "output_type": "stream",
     "text": [
      "Using EOG channels: AF3, AF4\n",
      "... filtering ICA sources\n",
      "Setting up band-pass filter from 1 - 10 Hz\n",
      "\n",
      "FIR filter parameters\n",
      "---------------------\n",
      "Designing a two-pass forward and reverse, zero-phase, non-causal bandpass filter:\n",
      "- Windowed frequency-domain design (firwin2) method\n",
      "- Hann window\n",
      "- Lower passband edge: 1.00\n",
      "- Lower transition bandwidth: 0.50 Hz (-12 dB cutoff frequency: 0.75 Hz)\n",
      "- Upper passband edge: 10.00 Hz\n",
      "- Upper transition bandwidth: 0.50 Hz (-12 dB cutoff frequency: 10.25 Hz)\n",
      "- Filter length: 1280 samples (10.000 sec)\n",
      "\n",
      "... filtering target\n",
      "Setting up band-pass filter from 1 - 10 Hz\n",
      "\n",
      "FIR filter parameters\n",
      "---------------------\n",
      "Designing a two-pass forward and reverse, zero-phase, non-causal bandpass filter:\n",
      "- Windowed frequency-domain design (firwin2) method\n",
      "- Hann window\n",
      "- Lower passband edge: 1.00\n",
      "- Lower transition bandwidth: 0.50 Hz (-12 dB cutoff frequency: 0.75 Hz)\n",
      "- Upper passband edge: 10.00 Hz\n",
      "- Upper transition bandwidth: 0.50 Hz (-12 dB cutoff frequency: 10.25 Hz)\n",
      "- Filter length: 1280 samples (10.000 sec)\n",
      "\n",
      "... filtering ICA sources\n",
      "Setting up band-pass filter from 1 - 10 Hz\n",
      "\n",
      "FIR filter parameters\n",
      "---------------------\n",
      "Designing a two-pass forward and reverse, zero-phase, non-causal bandpass filter:\n",
      "- Windowed frequency-domain design (firwin2) method\n",
      "- Hann window\n",
      "- Lower passband edge: 1.00\n",
      "- Lower transition bandwidth: 0.50 Hz (-12 dB cutoff frequency: 0.75 Hz)\n",
      "- Upper passband edge: 10.00 Hz\n",
      "- Upper transition bandwidth: 0.50 Hz (-12 dB cutoff frequency: 10.25 Hz)\n",
      "- Filter length: 1280 samples (10.000 sec)\n",
      "\n",
      "... filtering target\n",
      "Setting up band-pass filter from 1 - 10 Hz\n",
      "\n",
      "FIR filter parameters\n",
      "---------------------\n",
      "Designing a two-pass forward and reverse, zero-phase, non-causal bandpass filter:\n",
      "- Windowed frequency-domain design (firwin2) method\n",
      "- Hann window\n",
      "- Lower passband edge: 1.00\n",
      "- Lower transition bandwidth: 0.50 Hz (-12 dB cutoff frequency: 0.75 Hz)\n",
      "- Upper passband edge: 10.00 Hz\n",
      "- Upper transition bandwidth: 0.50 Hz (-12 dB cutoff frequency: 10.25 Hz)\n",
      "- Filter length: 1280 samples (10.000 sec)\n",
      "\n",
      "[]\n"
     ]
    }
   ],
   "source": [
    "bad_idx, scores = ica.find_bads_eog(raw, ch_name=['AF3', 'AF4'], threshold='auto')\n",
    "print(bad_idx)\n",
    "ica.exclude=bad_idx"
   ],
   "metadata": {
    "collapsed": false,
    "pycharm": {
     "name": "#%%\n"
    }
   }
  },
  {
   "cell_type": "code",
   "execution_count": 27,
   "outputs": [
    {
     "ename": "ValueError",
     "evalue": "No appropriate channels found for the given picks ([])",
     "output_type": "error",
     "traceback": [
      "\u001B[1;31m---------------------------------------------------------------------------\u001B[0m",
      "\u001B[1;31mValueError\u001B[0m                                Traceback (most recent call last)",
      "Input \u001B[1;32mIn [27]\u001B[0m, in \u001B[0;36m<cell line: 5>\u001B[1;34m()\u001B[0m\n\u001B[0;32m      2\u001B[0m ica\u001B[38;5;241m.\u001B[39mplot_scores(scores)\n\u001B[0;32m      4\u001B[0m \u001B[38;5;66;03m# plot diagnostics\u001B[39;00m\n\u001B[1;32m----> 5\u001B[0m \u001B[43mica\u001B[49m\u001B[38;5;241;43m.\u001B[39;49m\u001B[43mplot_properties\u001B[49m\u001B[43m(\u001B[49m\u001B[43mraw\u001B[49m\u001B[43m,\u001B[49m\u001B[43m \u001B[49m\u001B[43mpicks\u001B[49m\u001B[38;5;241;43m=\u001B[39;49m\u001B[43mbad_idx\u001B[49m\u001B[43m)\u001B[49m\n\u001B[0;32m      7\u001B[0m \u001B[38;5;66;03m# plot ICs applied to raw data, with ECG matches highlighted\u001B[39;00m\n\u001B[0;32m      8\u001B[0m ica\u001B[38;5;241m.\u001B[39mplot_sources(raw, show_scrollbars\u001B[38;5;241m=\u001B[39m\u001B[38;5;28;01mFalse\u001B[39;00m)\n",
      "File \u001B[1;32m~\\AppData\\Local\\Programs\\Python\\Python310\\lib\\site-packages\\mne\\preprocessing\\ica.py:1952\u001B[0m, in \u001B[0;36mICA.plot_properties\u001B[1;34m(self, inst, picks, axes, dB, plot_std, topomap_args, image_args, psd_args, figsize, show, reject, reject_by_annotation, verbose)\u001B[0m\n\u001B[0;32m   1947\u001B[0m \u001B[38;5;129m@copy_function_doc_to_method_doc\u001B[39m(plot_ica_properties)\n\u001B[0;32m   1948\u001B[0m \u001B[38;5;28;01mdef\u001B[39;00m \u001B[38;5;21mplot_properties\u001B[39m(\u001B[38;5;28mself\u001B[39m, inst, picks\u001B[38;5;241m=\u001B[39m\u001B[38;5;28;01mNone\u001B[39;00m, axes\u001B[38;5;241m=\u001B[39m\u001B[38;5;28;01mNone\u001B[39;00m, dB\u001B[38;5;241m=\u001B[39m\u001B[38;5;28;01mTrue\u001B[39;00m,\n\u001B[0;32m   1949\u001B[0m                     plot_std\u001B[38;5;241m=\u001B[39m\u001B[38;5;28;01mTrue\u001B[39;00m, topomap_args\u001B[38;5;241m=\u001B[39m\u001B[38;5;28;01mNone\u001B[39;00m, image_args\u001B[38;5;241m=\u001B[39m\u001B[38;5;28;01mNone\u001B[39;00m,\n\u001B[0;32m   1950\u001B[0m                     psd_args\u001B[38;5;241m=\u001B[39m\u001B[38;5;28;01mNone\u001B[39;00m, figsize\u001B[38;5;241m=\u001B[39m\u001B[38;5;28;01mNone\u001B[39;00m, show\u001B[38;5;241m=\u001B[39m\u001B[38;5;28;01mTrue\u001B[39;00m, reject\u001B[38;5;241m=\u001B[39m\u001B[38;5;124m'\u001B[39m\u001B[38;5;124mauto\u001B[39m\u001B[38;5;124m'\u001B[39m,\n\u001B[0;32m   1951\u001B[0m                     reject_by_annotation\u001B[38;5;241m=\u001B[39m\u001B[38;5;28;01mTrue\u001B[39;00m, \u001B[38;5;241m*\u001B[39m, verbose\u001B[38;5;241m=\u001B[39m\u001B[38;5;28;01mNone\u001B[39;00m):\n\u001B[1;32m-> 1952\u001B[0m     \u001B[38;5;28;01mreturn\u001B[39;00m \u001B[43mplot_ica_properties\u001B[49m\u001B[43m(\u001B[49m\u001B[38;5;28;43mself\u001B[39;49m\u001B[43m,\u001B[49m\u001B[43m \u001B[49m\u001B[43minst\u001B[49m\u001B[43m,\u001B[49m\u001B[43m \u001B[49m\u001B[43mpicks\u001B[49m\u001B[38;5;241;43m=\u001B[39;49m\u001B[43mpicks\u001B[49m\u001B[43m,\u001B[49m\u001B[43m \u001B[49m\u001B[43maxes\u001B[49m\u001B[38;5;241;43m=\u001B[39;49m\u001B[43maxes\u001B[49m\u001B[43m,\u001B[49m\n\u001B[0;32m   1953\u001B[0m \u001B[43m                               \u001B[49m\u001B[43mdB\u001B[49m\u001B[38;5;241;43m=\u001B[39;49m\u001B[43mdB\u001B[49m\u001B[43m,\u001B[49m\u001B[43m \u001B[49m\u001B[43mplot_std\u001B[49m\u001B[38;5;241;43m=\u001B[39;49m\u001B[43mplot_std\u001B[49m\u001B[43m,\u001B[49m\n\u001B[0;32m   1954\u001B[0m \u001B[43m                               \u001B[49m\u001B[43mtopomap_args\u001B[49m\u001B[38;5;241;43m=\u001B[39;49m\u001B[43mtopomap_args\u001B[49m\u001B[43m,\u001B[49m\n\u001B[0;32m   1955\u001B[0m \u001B[43m                               \u001B[49m\u001B[43mimage_args\u001B[49m\u001B[38;5;241;43m=\u001B[39;49m\u001B[43mimage_args\u001B[49m\u001B[43m,\u001B[49m\u001B[43m \u001B[49m\u001B[43mpsd_args\u001B[49m\u001B[38;5;241;43m=\u001B[39;49m\u001B[43mpsd_args\u001B[49m\u001B[43m,\u001B[49m\n\u001B[0;32m   1956\u001B[0m \u001B[43m                               \u001B[49m\u001B[43mfigsize\u001B[49m\u001B[38;5;241;43m=\u001B[39;49m\u001B[43mfigsize\u001B[49m\u001B[43m,\u001B[49m\u001B[43m \u001B[49m\u001B[43mshow\u001B[49m\u001B[38;5;241;43m=\u001B[39;49m\u001B[43mshow\u001B[49m\u001B[43m,\u001B[49m\u001B[43m \u001B[49m\u001B[43mreject\u001B[49m\u001B[38;5;241;43m=\u001B[39;49m\u001B[43mreject\u001B[49m\u001B[43m,\u001B[49m\n\u001B[0;32m   1957\u001B[0m \u001B[43m                               \u001B[49m\u001B[43mreject_by_annotation\u001B[49m\u001B[38;5;241;43m=\u001B[39;49m\u001B[43mreject_by_annotation\u001B[49m\u001B[43m,\u001B[49m\n\u001B[0;32m   1958\u001B[0m \u001B[43m                               \u001B[49m\u001B[43mverbose\u001B[49m\u001B[38;5;241;43m=\u001B[39;49m\u001B[43mverbose\u001B[49m\u001B[43m)\u001B[49m\n",
      "File \u001B[1;32m<decorator-gen-186>:12\u001B[0m, in \u001B[0;36mplot_ica_properties\u001B[1;34m(ica, inst, picks, axes, dB, plot_std, topomap_args, image_args, psd_args, figsize, show, reject, reject_by_annotation, verbose)\u001B[0m\n",
      "File \u001B[1;32m~\\AppData\\Local\\Programs\\Python\\Python310\\lib\\site-packages\\mne\\viz\\ica.py:336\u001B[0m, in \u001B[0;36mplot_ica_properties\u001B[1;34m(ica, inst, picks, axes, dB, plot_std, topomap_args, image_args, psd_args, figsize, show, reject, reject_by_annotation, verbose)\u001B[0m\n\u001B[0;32m    266\u001B[0m \u001B[38;5;129m@verbose\u001B[39m\n\u001B[0;32m    267\u001B[0m \u001B[38;5;28;01mdef\u001B[39;00m \u001B[38;5;21mplot_ica_properties\u001B[39m(ica, inst, picks\u001B[38;5;241m=\u001B[39m\u001B[38;5;28;01mNone\u001B[39;00m, axes\u001B[38;5;241m=\u001B[39m\u001B[38;5;28;01mNone\u001B[39;00m, dB\u001B[38;5;241m=\u001B[39m\u001B[38;5;28;01mTrue\u001B[39;00m,\n\u001B[0;32m    268\u001B[0m                         plot_std\u001B[38;5;241m=\u001B[39m\u001B[38;5;28;01mTrue\u001B[39;00m, topomap_args\u001B[38;5;241m=\u001B[39m\u001B[38;5;28;01mNone\u001B[39;00m, image_args\u001B[38;5;241m=\u001B[39m\u001B[38;5;28;01mNone\u001B[39;00m,\n\u001B[0;32m    269\u001B[0m                         psd_args\u001B[38;5;241m=\u001B[39m\u001B[38;5;28;01mNone\u001B[39;00m, figsize\u001B[38;5;241m=\u001B[39m\u001B[38;5;28;01mNone\u001B[39;00m, show\u001B[38;5;241m=\u001B[39m\u001B[38;5;28;01mTrue\u001B[39;00m, reject\u001B[38;5;241m=\u001B[39m\u001B[38;5;124m'\u001B[39m\u001B[38;5;124mauto\u001B[39m\u001B[38;5;124m'\u001B[39m,\n\u001B[0;32m    270\u001B[0m                         reject_by_annotation\u001B[38;5;241m=\u001B[39m\u001B[38;5;28;01mTrue\u001B[39;00m, \u001B[38;5;241m*\u001B[39m, verbose\u001B[38;5;241m=\u001B[39m\u001B[38;5;28;01mNone\u001B[39;00m):\n\u001B[0;32m    271\u001B[0m     \u001B[38;5;124;03m\"\"\"Display component properties.\u001B[39;00m\n\u001B[0;32m    272\u001B[0m \n\u001B[0;32m    273\u001B[0m \u001B[38;5;124;03m    Properties include the topography, epochs image, ERP/ERF, power\u001B[39;00m\n\u001B[1;32m   (...)\u001B[0m\n\u001B[0;32m    334\u001B[0m \u001B[38;5;124;03m    .. versionadded:: 0.13\u001B[39;00m\n\u001B[0;32m    335\u001B[0m \u001B[38;5;124;03m    \"\"\"\u001B[39;00m\n\u001B[1;32m--> 336\u001B[0m     \u001B[38;5;28;01mreturn\u001B[39;00m \u001B[43m_fast_plot_ica_properties\u001B[49m\u001B[43m(\u001B[49m\u001B[43mica\u001B[49m\u001B[43m,\u001B[49m\u001B[43m \u001B[49m\u001B[43minst\u001B[49m\u001B[43m,\u001B[49m\u001B[43m \u001B[49m\u001B[43mpicks\u001B[49m\u001B[38;5;241;43m=\u001B[39;49m\u001B[43mpicks\u001B[49m\u001B[43m,\u001B[49m\u001B[43m \u001B[49m\u001B[43maxes\u001B[49m\u001B[38;5;241;43m=\u001B[39;49m\u001B[43maxes\u001B[49m\u001B[43m,\u001B[49m\u001B[43m \u001B[49m\u001B[43mdB\u001B[49m\u001B[38;5;241;43m=\u001B[39;49m\u001B[43mdB\u001B[49m\u001B[43m,\u001B[49m\n\u001B[0;32m    337\u001B[0m \u001B[43m                                     \u001B[49m\u001B[43mplot_std\u001B[49m\u001B[38;5;241;43m=\u001B[39;49m\u001B[43mplot_std\u001B[49m\u001B[43m,\u001B[49m\n\u001B[0;32m    338\u001B[0m \u001B[43m                                     \u001B[49m\u001B[43mtopomap_args\u001B[49m\u001B[38;5;241;43m=\u001B[39;49m\u001B[43mtopomap_args\u001B[49m\u001B[43m,\u001B[49m\n\u001B[0;32m    339\u001B[0m \u001B[43m                                     \u001B[49m\u001B[43mimage_args\u001B[49m\u001B[38;5;241;43m=\u001B[39;49m\u001B[43mimage_args\u001B[49m\u001B[43m,\u001B[49m\u001B[43m \u001B[49m\u001B[43mpsd_args\u001B[49m\u001B[38;5;241;43m=\u001B[39;49m\u001B[43mpsd_args\u001B[49m\u001B[43m,\u001B[49m\n\u001B[0;32m    340\u001B[0m \u001B[43m                                     \u001B[49m\u001B[43mfigsize\u001B[49m\u001B[38;5;241;43m=\u001B[39;49m\u001B[43mfigsize\u001B[49m\u001B[43m,\u001B[49m\u001B[43m \u001B[49m\u001B[43mshow\u001B[49m\u001B[38;5;241;43m=\u001B[39;49m\u001B[43mshow\u001B[49m\u001B[43m,\u001B[49m\n\u001B[0;32m    341\u001B[0m \u001B[43m                                     \u001B[49m\u001B[43mreject\u001B[49m\u001B[38;5;241;43m=\u001B[39;49m\u001B[43mreject\u001B[49m\u001B[43m,\u001B[49m\n\u001B[0;32m    342\u001B[0m \u001B[43m                                     \u001B[49m\u001B[43mreject_by_annotation\u001B[49m\u001B[38;5;241;43m=\u001B[39;49m\u001B[43mreject_by_annotation\u001B[49m\u001B[43m,\u001B[49m\n\u001B[0;32m    343\u001B[0m \u001B[43m                                     \u001B[49m\u001B[43mverbose\u001B[49m\u001B[38;5;241;43m=\u001B[39;49m\u001B[43mverbose\u001B[49m\u001B[43m,\u001B[49m\u001B[43m \u001B[49m\u001B[43mprecomputed_data\u001B[49m\u001B[38;5;241;43m=\u001B[39;49m\u001B[38;5;28;43;01mNone\u001B[39;49;00m\u001B[43m)\u001B[49m\n",
      "File \u001B[1;32m~\\AppData\\Local\\Programs\\Python\\Python310\\lib\\site-packages\\mne\\viz\\ica.py:366\u001B[0m, in \u001B[0;36m_fast_plot_ica_properties\u001B[1;34m(ica, inst, picks, axes, dB, plot_std, topomap_args, image_args, psd_args, figsize, show, reject, precomputed_data, reject_by_annotation, verbose)\u001B[0m\n\u001B[0;32m    364\u001B[0m \u001B[38;5;66;03m# if no picks given - plot the first 5 components\u001B[39;00m\n\u001B[0;32m    365\u001B[0m limit \u001B[38;5;241m=\u001B[39m \u001B[38;5;28mmin\u001B[39m(\u001B[38;5;241m5\u001B[39m, ica\u001B[38;5;241m.\u001B[39mn_components_) \u001B[38;5;28;01mif\u001B[39;00m picks \u001B[38;5;129;01mis\u001B[39;00m \u001B[38;5;28;01mNone\u001B[39;00m \u001B[38;5;28;01melse\u001B[39;00m \u001B[38;5;28mlen\u001B[39m(ica\u001B[38;5;241m.\u001B[39mch_names)\n\u001B[1;32m--> 366\u001B[0m picks \u001B[38;5;241m=\u001B[39m \u001B[43m_picks_to_idx\u001B[49m\u001B[43m(\u001B[49m\u001B[43mica\u001B[49m\u001B[38;5;241;43m.\u001B[39;49m\u001B[43minfo\u001B[49m\u001B[43m,\u001B[49m\u001B[43m \u001B[49m\u001B[43mpicks\u001B[49m\u001B[43m,\u001B[49m\u001B[43m \u001B[49m\u001B[38;5;124;43m'\u001B[39;49m\u001B[38;5;124;43mall\u001B[39;49m\u001B[38;5;124;43m'\u001B[39;49m\u001B[43m)\u001B[49m[:limit]\n\u001B[0;32m    367\u001B[0m \u001B[38;5;28;01mif\u001B[39;00m axes \u001B[38;5;129;01mis\u001B[39;00m \u001B[38;5;28;01mNone\u001B[39;00m:\n\u001B[0;32m    368\u001B[0m     fig, axes \u001B[38;5;241m=\u001B[39m _create_properties_layout(figsize\u001B[38;5;241m=\u001B[39mfigsize)\n",
      "File \u001B[1;32m~\\AppData\\Local\\Programs\\Python\\Python310\\lib\\site-packages\\mne\\io\\pick.py:1063\u001B[0m, in \u001B[0;36m_picks_to_idx\u001B[1;34m(info, picks, none, exclude, allow_empty, with_ref_meg, return_kind)\u001B[0m\n\u001B[0;32m   1059\u001B[0m \u001B[38;5;66;03m#\u001B[39;00m\n\u001B[0;32m   1060\u001B[0m \u001B[38;5;66;03m# ensure we have (optionally non-empty) ndarray of valid int\u001B[39;00m\n\u001B[0;32m   1061\u001B[0m \u001B[38;5;66;03m#\u001B[39;00m\n\u001B[0;32m   1062\u001B[0m \u001B[38;5;28;01mif\u001B[39;00m \u001B[38;5;28mlen\u001B[39m(picks) \u001B[38;5;241m==\u001B[39m \u001B[38;5;241m0\u001B[39m \u001B[38;5;129;01mand\u001B[39;00m \u001B[38;5;129;01mnot\u001B[39;00m allow_empty:\n\u001B[1;32m-> 1063\u001B[0m     \u001B[38;5;28;01mraise\u001B[39;00m \u001B[38;5;167;01mValueError\u001B[39;00m(\u001B[38;5;124m'\u001B[39m\u001B[38;5;124mNo appropriate channels found for the given picks \u001B[39m\u001B[38;5;124m'\u001B[39m\n\u001B[0;32m   1064\u001B[0m                      \u001B[38;5;124m'\u001B[39m\u001B[38;5;124m(\u001B[39m\u001B[38;5;132;01m%r\u001B[39;00m\u001B[38;5;124m)\u001B[39m\u001B[38;5;124m'\u001B[39m \u001B[38;5;241m%\u001B[39m (orig_picks,))\n\u001B[0;32m   1065\u001B[0m \u001B[38;5;28;01mif\u001B[39;00m (picks \u001B[38;5;241m<\u001B[39m \u001B[38;5;241m-\u001B[39mn_chan)\u001B[38;5;241m.\u001B[39many():\n\u001B[0;32m   1066\u001B[0m     \u001B[38;5;28;01mraise\u001B[39;00m \u001B[38;5;167;01mValueError\u001B[39;00m(\u001B[38;5;124m'\u001B[39m\u001B[38;5;124mAll picks must be >= \u001B[39m\u001B[38;5;132;01m%d\u001B[39;00m\u001B[38;5;124m, got \u001B[39m\u001B[38;5;132;01m%r\u001B[39;00m\u001B[38;5;124m'\u001B[39m\n\u001B[0;32m   1067\u001B[0m                      \u001B[38;5;241m%\u001B[39m (\u001B[38;5;241m-\u001B[39mn_chan, orig_picks))\n",
      "\u001B[1;31mValueError\u001B[0m: No appropriate channels found for the given picks ([])"
     ]
    }
   ],
   "source": [
    "# barplot of ICA component \"ECG match\" scores\n",
    "ica.plot_scores(scores)\n",
    "\n",
    "# plot diagnostics\n",
    "ica.plot_properties(raw, picks=bad_idx)\n",
    "\n",
    "# plot ICs applied to raw data, with ECG matches highlighted\n",
    "ica.plot_sources(raw, show_scrollbars=False)\n",
    "\n",
    "# filtered_w_ica = ica.apply(filtered_raw.copy(), exclude=ica.exclude)\n",
    "# filtered_raw.plot(scalings=0.0001)\n",
    "# filtered_w_ica.plot(scalings=0.0001)"
   ],
   "metadata": {
    "collapsed": false,
    "pycharm": {
     "name": "#%%\n"
    }
   }
  },
  {
   "cell_type": "markdown",
   "source": [
    "Extract events from the raw data"
   ],
   "metadata": {
    "collapsed": false,
    "pycharm": {
     "name": "#%% md\n"
    }
   }
  },
  {
   "cell_type": "code",
   "execution_count": null,
   "outputs": [],
   "source": [
    "events = mne.find_events(filtered_raw)\n",
    "print(events)"
   ],
   "metadata": {
    "collapsed": false,
    "pycharm": {
     "name": "#%%\n"
    }
   }
  },
  {
   "cell_type": "markdown",
   "source": [
    "Create dictionary for event types"
   ],
   "metadata": {
    "collapsed": false,
    "pycharm": {
     "name": "#%% md\n"
    }
   }
  },
  {
   "cell_type": "code",
   "execution_count": null,
   "outputs": [],
   "source": [
    "event_types = {\n",
    "    'new_game':1,\n",
    "    'left':2,\n",
    "    'right':3,\n",
    "    'lift':4,\n",
    "    'drop':5\n",
    "    }"
   ],
   "metadata": {
    "collapsed": false,
    "pycharm": {
     "name": "#%%\n"
    }
   }
  },
  {
   "cell_type": "code",
   "execution_count": null,
   "outputs": [],
   "source": [
    "raw.info"
   ],
   "metadata": {
    "collapsed": false,
    "pycharm": {
     "name": "#%%\n"
    }
   }
  }
 ],
 "metadata": {
  "kernelspec": {
   "display_name": "Python 3",
   "language": "python",
   "name": "python3"
  },
  "language_info": {
   "codemirror_mode": {
    "name": "ipython",
    "version": 2
   },
   "file_extension": ".py",
   "mimetype": "text/x-python",
   "name": "python",
   "nbconvert_exporter": "python",
   "pygments_lexer": "ipython2",
   "version": "2.7.6"
  }
 },
 "nbformat": 4,
 "nbformat_minor": 0
}