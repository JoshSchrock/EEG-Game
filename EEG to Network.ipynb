{
 "cells": [
  {
   "cell_type": "markdown",
   "source": [
    "Imports"
   ],
   "metadata": {
    "collapsed": false,
    "pycharm": {
     "name": "#%% md\n"
    }
   }
  },
  {
   "cell_type": "code",
   "execution_count": 43,
   "outputs": [],
   "source": [
    "import os\n",
    "import numpy as np\n",
    "import mne\n",
    "import matplotlib\n",
    "import matplotlib.pyplot as plt"
   ],
   "metadata": {
    "collapsed": false,
    "pycharm": {
     "name": "#%%\n"
    }
   }
  },
  {
   "cell_type": "markdown",
   "source": [
    "Ensure Matplotlib uses the Qt5Agg backend for plotting functions"
   ],
   "metadata": {
    "collapsed": false,
    "pycharm": {
     "name": "#%% md\n"
    }
   }
  },
  {
   "cell_type": "code",
   "execution_count": 44,
   "outputs": [],
   "source": [
    "matplotlib.use('Qt5Agg')\n",
    "annot_kwargs = dict(fontsize=12, fontweight='bold',\n",
    "                    xycoords=\"axes fraction\", ha='right', va='center')\n",
    "fontsize = 8\n",
    "params = {'font.size': fontsize,\n",
    "          'axes.labelsize': fontsize,\n",
    "          'legend.fontsize': fontsize,\n",
    "          'xtick.labelsize': fontsize,\n",
    "          'ytick.labelsize': fontsize,\n",
    "          'axes.titlesize': fontsize + 2,\n",
    "          'figure.max_open_warning': 200,\n",
    "          'axes.spines.top': False,\n",
    "          'axes.spines.right': False,\n",
    "          'axes.grid': True,\n",
    "          'lines.linewidth': 1\n",
    "          }\n",
    "plt.rcParams.update(params)"
   ],
   "metadata": {
    "collapsed": false,
    "pycharm": {
     "name": "#%%\n"
    }
   }
  },
  {
   "cell_type": "markdown",
   "source": [
    "Configure to use Cuda"
   ],
   "metadata": {
    "collapsed": false,
    "pycharm": {
     "name": "#%% md\n"
    }
   }
  },
  {
   "cell_type": "code",
   "execution_count": 45,
   "outputs": [],
   "source": [
    "try:\n",
    "    mne.set_config('MNE_USE_CUDA', 'true')\n",
    "except TypeError as err:\n",
    "    print(err)"
   ],
   "metadata": {
    "collapsed": false,
    "pycharm": {
     "name": "#%%\n"
    }
   }
  },
  {
   "cell_type": "markdown",
   "source": [
    "Choose channels from the raw edf file to use"
   ],
   "metadata": {
    "collapsed": false,
    "pycharm": {
     "name": "#%% md\n"
    }
   }
  },
  {
   "cell_type": "code",
   "execution_count": 46,
   "outputs": [],
   "source": [
    "# good channels: [4,5,6,7,8,9,10,11,12,13,14,15,16,17]\n",
    "# all channels ['TIME_STAMP_s', 'TIME_STAMP_ms', 'COUNTER', 'INTERPOLATED', 'AF3', 'F7', 'F3', 'FC5', 'T7', 'P7', 'O1', 'O2', 'P8', 'T8', 'FC6', 'F4', 'F8', 'AF4', 'HighBitFlex', 'SaturationFlag', 'RAW_CQ', 'BATTERY', 'BATTERY_PERCENT', 'MarkerIndex', 'MarkerType', 'MarkerValueInt', 'MARKER_HARDWARE', 'CQ_AF3', 'CQ_F7', 'CQ_F3', 'CQ_FC5', 'CQ_T7', 'CQ_P7', 'CQ_O1', 'CQ_O2', 'CQ_P8', 'CQ_T8', 'CQ_FC6', 'CQ_F4', 'CQ_F8', 'CQ_AF4', 'CQ_OVERALL', 'EQ_SampleRateQua', 'EQ_OVERALL', 'EQ_AF3', 'EQ_F7', 'EQ_F3', 'EQ_FC5', 'EQ_T7', 'EQ_P7', 'EQ_O1', 'EQ_O2', 'EQ_P8', 'EQ_T8', 'EQ_FC6', 'EQ_F4', 'EQ_F8', 'EQ_AF4', 'CQ_CMS', 'CQ_DRL']\n",
    "stim_channels = ['MarkerIndex', 'MarkerType', 'MarkerValueInt', 'MARKER_HARDWARE']\n",
    "exclude = ['TIME_STAMP_s', 'TIME_STAMP_ms', 'COUNTER', 'INTERPOLATED', 'HighBitFlex', 'SaturationFlag', 'RAW_CQ', 'BATTERY', 'BATTERY_PERCENT', 'CQ_AF3', 'CQ_F7', 'CQ_F3', 'CQ_FC5', 'CQ_T7', 'CQ_P7', 'CQ_O1', 'CQ_O2', 'CQ_P8', 'CQ_T8', 'CQ_FC6', 'CQ_F4', 'CQ_F8', 'CQ_AF4', 'CQ_OVERALL', 'EQ_SampleRateQua', 'EQ_OVERALL', 'EQ_AF3', 'EQ_F7', 'EQ_F3', 'EQ_FC5', 'EQ_T7', 'EQ_P7', 'EQ_O1', 'EQ_O2', 'EQ_P8', 'EQ_T8', 'EQ_FC6', 'EQ_F4', 'EQ_F8', 'EQ_AF4', 'CQ_CMS', 'CQ_DRL']\n",
    "#  eog_channels = ['AF3', 'AF4']"
   ],
   "metadata": {
    "collapsed": false,
    "pycharm": {
     "name": "#%%\n"
    }
   }
  },
  {
   "cell_type": "markdown",
   "source": [
    "Import EDF"
   ],
   "metadata": {
    "collapsed": false,
    "pycharm": {
     "name": "#%% md\n"
    }
   }
  },
  {
   "cell_type": "code",
   "execution_count": 47,
   "outputs": [
    {
     "name": "stdout",
     "output_type": "stream",
     "text": [
      "Extracting EDF parameters from C:\\Users\\larx\\PycharmProjects\\EEG-Game\\BCI Evasion 2\\EEGExports\\EEG-Game_Josh Schrock_EPOCFLEX-F0000172_EPOCFLEX_123045_2022.06.21T13.09.47.04.00.edf...\n",
      "EDF file detected\n",
      "Setting channel info structure...\n",
      "Creating raw.info structure...\n",
      "Reading 0 ... 4351  =      0.000 ...    33.992 secs...\n"
     ]
    }
   ],
   "source": [
    "#  edf file name here\n",
    "edf_file_name = 'EEG-Game_Josh Schrock_EPOCFLEX-F0000172_EPOCFLEX_123045_2022.06.21T14.54.07.04.00'\n",
    "data_raw_file = f\"{os.getcwd()}\\\\BCI Evasion 2\\\\EEGExports\\\\{edf_file_name}.edf\"\n",
    "raw = mne.io.read_raw_edf(data_raw_file, stim_channel=stim_channels, exclude=exclude, preload=True)"
   ],
   "metadata": {
    "collapsed": false,
    "pycharm": {
     "name": "#%%\n"
    }
   }
  },
  {
   "cell_type": "markdown",
   "source": [
    "Set up the montage for this data"
   ],
   "metadata": {
    "collapsed": false,
    "pycharm": {
     "name": "#%% md\n"
    }
   }
  },
  {
   "cell_type": "code",
   "execution_count": 48,
   "outputs": [],
   "source": [
    "# Form the 10-20 montage\n",
    "mont1020 = mne.channels.make_standard_montage('standard_1020')\n",
    "# Choose what channels you want to keep\n",
    "# Make sure that these channels exist e.g. T1 does not exist in the standard 10-20 EEG system!\n",
    "kept_channels = ['AF3', 'F7', 'F3', 'FC5', 'T7', 'P7', 'O1', 'O2', 'P8', 'T8', 'FC6', 'F4', 'F8', 'AF4']\n",
    "ind = [i for (i, channel) in enumerate(mont1020.ch_names) if channel in kept_channels]\n",
    "mont1020_new = mont1020.copy()\n",
    "# Keep only the desired channels\n",
    "mont1020_new.ch_names = [mont1020.ch_names[x] for x in ind]\n",
    "kept_channel_info = [mont1020.dig[x+3] for x in ind]\n",
    "# Keep the first three rows as they are the fiducial points information\n",
    "mont1020_new.dig = mont1020.dig[0:3]+kept_channel_info"
   ],
   "metadata": {
    "collapsed": false,
    "pycharm": {
     "name": "#%%\n"
    }
   }
  },
  {
   "cell_type": "markdown",
   "source": [
    "Apply montage to the raw data and plot"
   ],
   "metadata": {
    "collapsed": false,
    "pycharm": {
     "name": "#%% md\n"
    }
   }
  },
  {
   "cell_type": "code",
   "execution_count": 49,
   "outputs": [
    {
     "name": "stdout",
     "output_type": "stream",
     "text": [
      "Opening raw-browser...\n",
      "Effective window size : 16.000 (s)\n",
      "Closing raw-browser...\n",
      "Channels marked as bad:\n",
      "none\n"
     ]
    },
    {
     "data": {
      "text/plain": "<MNELineFigure size 1000x350 with 2 Axes>"
     },
     "execution_count": 49,
     "metadata": {},
     "output_type": "execute_result"
    }
   ],
   "source": [
    "raw = raw.set_montage(mont1020_new)\n",
    "raw.plot_sensors(kind='3d', ch_type='eeg')\n",
    "raw.plot()\n",
    "raw.plot_psd()"
   ],
   "metadata": {
    "collapsed": false,
    "pycharm": {
     "name": "#%%\n"
    }
   }
  },
  {
   "cell_type": "markdown",
   "source": [],
   "metadata": {
    "collapsed": false,
    "pycharm": {
     "name": "#%% md\n"
    }
   }
  },
  {
   "cell_type": "markdown",
   "source": [
    "Preprocess Data"
   ],
   "metadata": {
    "collapsed": false,
    "pycharm": {
     "name": "#%% md\n"
    }
   }
  },
  {
   "cell_type": "code",
   "execution_count": 50,
   "outputs": [
    {
     "name": "stdout",
     "output_type": "stream",
     "text": [
      "Filtering raw data in 1 contiguous segment\n",
      "Setting up band-pass filter from 1 - 40 Hz\n",
      "\n",
      "FIR filter parameters\n",
      "---------------------\n",
      "Designing a one-pass, zero-phase, non-causal bandpass filter:\n",
      "- Windowed time-domain design (firwin) method\n",
      "- Hamming window with 0.0194 passband ripple and 53 dB stopband attenuation\n",
      "- Lower passband edge: 1.00\n",
      "- Lower transition bandwidth: 1.00 Hz (-6 dB cutoff frequency: 0.50 Hz)\n",
      "- Upper passband edge: 40.00 Hz\n",
      "- Upper transition bandwidth: 10.00 Hz (-6 dB cutoff frequency: 45.00 Hz)\n",
      "- Filter length: 423 samples (3.305 sec)\n",
      "\n",
      "Effective window size : 16.000 (s)\n",
      "Effective window size : 16.000 (s)\n"
     ]
    },
    {
     "data": {
      "text/plain": "Text(0.5, 1.0, 'Filtered Raw')"
     },
     "execution_count": 50,
     "metadata": {},
     "output_type": "execute_result"
    }
   ],
   "source": [
    "filtered_raw = raw.copy().filter(\n",
    "    1, 40, l_trans_bandwidth='auto', h_trans_bandwidth='auto',\n",
    "    filter_length='auto', phase='zero', fir_window='hamming',\n",
    "    fir_design='firwin')\n",
    "fid, ax = plt.subplots(2)\n",
    "raw.plot_psd(ax=ax[0], show=False)\n",
    "filtered_raw.plot_psd(ax=ax[1], show=False)\n",
    "ax[0].set_title('Raw')\n",
    "ax[1].set_title('Filtered Raw')"
   ],
   "metadata": {
    "collapsed": false,
    "pycharm": {
     "name": "#%%\n"
    }
   }
  },
  {
   "cell_type": "markdown",
   "source": [
    "Extract events from the raw data"
   ],
   "metadata": {
    "collapsed": false,
    "pycharm": {
     "name": "#%% md\n"
    }
   }
  },
  {
   "cell_type": "code",
   "execution_count": 51,
   "outputs": [
    {
     "name": "stdout",
     "output_type": "stream",
     "text": [
      "17 events found\n",
      "Event IDs: [     1      2      3      4      5      6      7      8      9     10\n",
      "     11 131062 131064 131066 131068 131069 131071]\n",
      "17 events found\n",
      "Event IDs: [1 2]\n",
      "5 events found\n",
      "Event IDs: [1]\n",
      "[[   254      0      2]\n",
      " [   254      0      1]\n",
      " [   449      0      2]\n",
      " [   449      0      1]\n",
      " [   704      0 131071]\n",
      " [   704      0      2]\n",
      " [   864      0      3]\n",
      " [   864      0      2]\n",
      " [  1025      0      2]\n",
      " [  1025      0 131069]\n",
      " [  1159      0      2]\n",
      " [  1159      0      4]\n",
      " [  1241      0      2]\n",
      " [  1241      0 131068]\n",
      " [  1260      0      5]\n",
      " [  1260      0      1]\n",
      " [  1598      0      6]\n",
      " [  1598      0      2]\n",
      " [  1643      0      2]\n",
      " [  1643      0 131066]\n",
      " [  1922      0      1]\n",
      " [  1922      0      7]\n",
      " [  2032      0      8]\n",
      " [  2032      0      2]\n",
      " [  2114      0      2]\n",
      " [  2114      0 131064]\n",
      " [  3260      0      9]\n",
      " [  3260      0      1]\n",
      " [  3423      0     10]\n",
      " [  3423      0      2]\n",
      " [  3520      0 131062]\n",
      " [  3520      0      2]\n",
      " [  4126      0      1]\n",
      " [  4126      0     11]]\n"
     ]
    },
    {
     "name": "stderr",
     "output_type": "stream",
     "text": [
      "C:\\Users\\larx\\AppData\\Local\\Temp\\ipykernel_4052\\2919268591.py:1: RuntimeWarning: Some events are duplicated in your different stim channels. 5 events were ignored during deduplication.\n",
      "  events = mne.find_events(filtered_raw)\n"
     ]
    }
   ],
   "source": [
    "events = mne.find_events(filtered_raw)\n",
    "print(events)"
   ],
   "metadata": {
    "collapsed": false,
    "pycharm": {
     "name": "#%%\n"
    }
   }
  },
  {
   "cell_type": "code",
   "execution_count": 52,
   "outputs": [
    {
     "data": {
      "text/plain": "<Info | 8 non-empty values\n bads: []\n ch_names: AF3, F7, F3, FC5, T7, P7, O1, O2, P8, T8, FC6, F4, F8, AF4, ...\n chs: 14 EEG, 4 Stimulus\n custom_ref_applied: False\n dig: 17 items (3 Cardinal, 14 EEG)\n highpass: 0.0 Hz\n lowpass: 64.0 Hz\n meas_date: 2022-06-21 13:09:47 UTC\n nchan: 18\n projs: []\n sfreq: 128.0 Hz\n>",
      "text/html": "<table class=\"table table-hover table-striped table-sm table-responsive small\">\n    <tr>\n        <th>Measurement date</th>\n        \n        <td>June 21, 2022  13:09:47 GMT</td>\n        \n    </tr>\n    <tr>\n        <th>Experimenter</th>\n        \n        <td>Unknown</td>\n        \n    </tr>\n        <th>Participant</th>\n        \n        <td>Unknown</td>\n        \n    </tr>\n    <tr>\n        <th>Digitized points</th>\n        \n        <td>0 points</td>\n        \n    </tr>\n    <tr>\n        <th>Good channels</th>\n        <td>14 EEG, 4 Stimulus</td>\n    </tr>\n    <tr>\n        <th>Bad channels</th>\n        <td>None</td>\n    </tr>\n    <tr>\n        <th>EOG channels</th>\n        <td>Not available</td>\n    </tr>\n    <tr>\n        <th>ECG channels</th>\n        <td>Not available</td>\n    \n    <tr>\n        <th>Sampling frequency</th>\n        <td>128.00 Hz</td>\n    </tr>\n    \n    \n    <tr>\n        <th>Highpass</th>\n        <td>0.00 Hz</td>\n    </tr>\n    \n    \n    <tr>\n        <th>Lowpass</th>\n        <td>64.00 Hz</td>\n    </tr>\n    \n    \n</table>"
     },
     "execution_count": 52,
     "metadata": {},
     "output_type": "execute_result"
    }
   ],
   "source": [
    "raw.info"
   ],
   "metadata": {
    "collapsed": false,
    "pycharm": {
     "name": "#%%\n"
    }
   }
  }
 ],
 "metadata": {
  "kernelspec": {
   "display_name": "Python 3",
   "language": "python",
   "name": "python3"
  },
  "language_info": {
   "codemirror_mode": {
    "name": "ipython",
    "version": 2
   },
   "file_extension": ".py",
   "mimetype": "text/x-python",
   "name": "python",
   "nbconvert_exporter": "python",
   "pygments_lexer": "ipython2",
   "version": "2.7.6"
  }
 },
 "nbformat": 4,
 "nbformat_minor": 0
}